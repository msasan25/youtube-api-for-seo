{
 "cells": [
  {
   "cell_type": "code",
   "execution_count": 102,
   "id": "9759c846",
   "metadata": {},
   "outputs": [],
   "source": [
    "api_key = \"your api key\" #insert your youtube in here"
   ]
  },
  {
   "cell_type": "code",
   "execution_count": 103,
   "id": "aa0fa5cc",
   "metadata": {},
   "outputs": [],
   "source": [
    "# pip3 install google-api-python-client\n",
    "from googleapiclient.discovery import build\n",
    "import pandas as pd\n",
    "title=[]\n",
    "description=[]\n",
    "view=[]\n",
    "like=[]\n",
    "dislike=[]\n",
    "favorite=[]\n",
    "comment=[]\n",
    "\n",
    "#this will fetch the available information from youtube account\n"
   ]
  },
  {
   "cell_type": "code",
   "execution_count": 104,
   "id": "f0c3ce06",
   "metadata": {},
   "outputs": [],
   "source": [
    "youtube = build('youtube', 'v3', developerKey=api_key)"
   ]
  },
  {
   "cell_type": "code",
   "execution_count": 105,
   "id": "374db020",
   "metadata": {},
   "outputs": [],
   "source": [
    "res = youtube.channels().list(id=\"insert channel id of youtube account\", part='contentDetails').execute()\n",
    "res = youtube.videos().list(id=videos[0]['snippet']['resourceId']['videoId'],part='statistics').execute() "
   ]
  },
  {
   "cell_type": "code",
   "execution_count": 106,
   "id": "55880a76-0755-4ab1-a288-ee4099cc230c",
   "metadata": {},
   "outputs": [],
   "source": [
    "#execute 'res' command to get playlist id and list of all avaialble youtube data. Data Frames will be set accordingly"
   ]
  },
  {
   "cell_type": "code",
   "execution_count": 107,
   "id": "8de75a6d",
   "metadata": {},
   "outputs": [],
   "source": [
    "res=youtube.playlistItems().list(playlistId=\"insert playlist id\", part='snippet', maxResults=50).execute()"
   ]
  },
  {
   "cell_type": "code",
   "execution_count": 108,
   "id": "2a624f86",
   "metadata": {},
   "outputs": [],
   "source": [
    "def get_channel_videos(channel_id):\n",
    "    res = youtube.channels().list(id=channel_id, part= \n",
    "                                  \"contentDetails\").execute()\n",
    "    playlist_id = res['items'][0]['contentDetails']['relatedPlaylists']['uploads']\n",
    "    videos=[]\n",
    "    next_page_token= None\n",
    "    \n",
    "    while 1:\n",
    "        res= youtube.playlistItems().list(\n",
    "            playlistId=playlist_id, \n",
    "            part='snippet', \n",
    "            maxResults=50,\n",
    "        pageToken= next_page_token).execute()\n",
    "        \n",
    "        videos += res ['items']\n",
    "        next_page_token = res.get('nextPageToken')\n",
    "        \n",
    "        if next_page_token is None:\n",
    "            break\n",
    "    return videos\n"
   ]
  },
  {
   "cell_type": "code",
   "execution_count": 109,
   "id": "bc5f9ec6-87af-4ec1-9be4-de5778717b16",
   "metadata": {},
   "outputs": [],
   "source": [
    "def get_videos_stats(video_ids):\n",
    "    stats=[]\n",
    "    for i in range(0,len(video_ids),50):\n",
    "        res=youtube.videos().list(id=','.join(video_ids[i:i+50]),part='statistics').execute()\n",
    "        stats +=res['items']\n",
    "    return stats"
   ]
  },
  {
   "cell_type": "code",
   "execution_count": 110,
   "id": "c82c642d-8d66-4a50-8f43-e7e14005819a",
   "metadata": {},
   "outputs": [],
   "source": [
    "video_ids= list(map(lambda x:x['snippet']['resourceId']['videoId'],videos))\n"
   ]
  },
  {
   "cell_type": "code",
   "execution_count": 111,
   "id": "2513e33a-4009-47cc-8c72-963e3b3f4399",
   "metadata": {},
   "outputs": [],
   "source": [
    "stats= get_videos_stats(video_ids)\n"
   ]
  },
  {
   "cell_type": "code",
   "execution_count": 112,
   "id": "1f4575cf",
   "metadata": {},
   "outputs": [],
   "source": [
    "videos = get_channel_videos(\"insert channel id\")\n",
    "    "
   ]
  },
  {
   "cell_type": "code",
   "execution_count": 114,
   "id": "ff30e97d",
   "metadata": {},
   "outputs": [],
   "source": [
    "for video in videos:\n",
    "    title.append(video['snippet']['title'])\n",
    "    description.append(video['snippet']['description'])\n",
    "    \n",
    "    "
   ]
  },
  {
   "cell_type": "code",
   "execution_count": 115,
   "id": "43ce1a94-9b78-429d-9d22-3aa4998cd3e3",
   "metadata": {},
   "outputs": [],
   "source": [
    "for stat in stats:\n",
    "    view.append(stat['statistics']['viewCount'])\n",
    "    like.append(stat['statistics']['likeCount'])\n",
    "    dislike.append(stat['statistics']['dislikeCount'])\n",
    "    favorite.append(stat['statistics']['favoriteCount'])\n",
    "    comment.append(stat['statistics']['commentCount'])"
   ]
  },
  {
   "cell_type": "code",
   "execution_count": 126,
   "id": "7ae39a31",
   "metadata": {},
   "outputs": [],
   "source": [
    "df= pd.DataFrame({'Title':title,\n",
    "                  'Description':description,\n",
    "                  'viewCount':view,\n",
    "                  'likeCount':like,\n",
    "                  'dislikeCount':dislike,\n",
    "                  'favoriteCount':favorite,\n",
    "                  'commentCount':comment\n",
    "                 })              \n",
    "df.to_csv(\"Output.csv\")\n",
    "#download the output file and result will be shown in excel sheet"
   ]
  },
  {
   "cell_type": "raw",
   "id": "59b6c2d6",
   "metadata": {},
   "source": []
  },
  {
   "cell_type": "code",
   "execution_count": null,
   "id": "d0fab667-a8b5-4c64-8ab6-ac6afad3765c",
   "metadata": {},
   "outputs": [],
   "source": []
  }
 ],
 "metadata": {
  "kernelspec": {
   "display_name": "Python 3",
   "language": "python",
   "name": "python3"
  },
  "language_info": {
   "codemirror_mode": {
    "name": "ipython",
    "version": 3
   },
   "file_extension": ".py",
   "mimetype": "text/x-python",
   "name": "python",
   "nbconvert_exporter": "python",
   "pygments_lexer": "ipython3",
   "version": "3.8.8"
  }
 },
 "nbformat": 4,
 "nbformat_minor": 5
}
